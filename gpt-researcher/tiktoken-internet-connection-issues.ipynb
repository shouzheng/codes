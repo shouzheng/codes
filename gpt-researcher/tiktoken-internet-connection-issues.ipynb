{
 "cells": [
  {
   "cell_type": "markdown",
   "metadata": {},
   "source": [
    "tiktoken 是 OpenAI 开源的快速 Tokenizer 工具，用于将文本转换为大模型所需的 token。"
   ]
  },
  {
   "cell_type": "code",
   "execution_count": 1,
   "metadata": {},
   "outputs": [],
   "source": [
    "import tiktoken"
   ]
  },
  {
   "cell_type": "code",
   "execution_count": 2,
   "metadata": {},
   "outputs": [
    {
     "data": {
      "text/plain": [
       "['gpt2', 'r50k_base', 'p50k_base', 'p50k_edit', 'cl100k_base', 'o200k_base']"
      ]
     },
     "execution_count": 2,
     "metadata": {},
     "output_type": "execute_result"
    }
   ],
   "source": [
    "tiktoken.list_encoding_names()  # 查看所有可用的encoding\n",
    "\n",
    "# gpt2的结构与其他不同，下文将跳过对gpt2的缓存，如有需要，请自行研究"
   ]
  },
  {
   "cell_type": "code",
   "execution_count": 3,
   "metadata": {},
   "outputs": [
    {
     "data": {
      "text/plain": [
       "dict_keys([])"
      ]
     },
     "execution_count": 3,
     "metadata": {},
     "output_type": "execute_result"
    }
   ],
   "source": [
    "from tiktoken.registry import ENCODINGS\n",
    "\n",
    "ENCODINGS.keys()\n",
    "\n",
    "# 内存缓存，默认为空，加载之后会填充"
   ]
  },
  {
   "cell_type": "code",
   "execution_count": 4,
   "metadata": {},
   "outputs": [
    {
     "data": {
      "text/plain": [
       "[10394, 58626, 7522, 70033, 2432, 26180, 51566, 46422, 11086, 1616, 65247]"
      ]
     },
     "execution_count": 4,
     "metadata": {},
     "output_type": "execute_result"
    }
   ],
   "source": [
    "# 如果没有设置缓存目录，会触发下载\n",
    "\n",
    "encoding = tiktoken.get_encoding(\"o200k_base\")\n",
    "encoding.encode(\"请帮我生成一份关于Deep Research的报告\")"
   ]
  },
  {
   "cell_type": "code",
   "execution_count": 5,
   "metadata": {},
   "outputs": [
    {
     "data": {
      "text/plain": [
       "dict_keys(['o200k_base'])"
      ]
     },
     "execution_count": 5,
     "metadata": {},
     "output_type": "execute_result"
    }
   ],
   "source": [
    "ENCODINGS.keys()"
   ]
  },
  {
   "cell_type": "markdown",
   "metadata": {},
   "source": [
    "# 离线方案\n",
    "\n",
    "在 .venv\\Lib\\site-packages\\tiktoken_ext\\openai_public.py 可以看到下载地址"
   ]
  },
  {
   "cell_type": "markdown",
   "metadata": {},
   "source": [
    "## ~~直接使用本地路径~~\n",
    "\n",
    "这条路行不通\n",
    "\n",
    "~~最简单、方便，如果是自己直接使用，推荐。如果是使用了第三方的sdk，可能需要修改源代码~~"
   ]
  },
  {
   "cell_type": "code",
   "execution_count": 6,
   "metadata": {},
   "outputs": [
    {
     "ename": "ValueError",
     "evalue": "Unknown encoding D:/AppData/tiktoken/encodings/o200k_base.tiktoken.\nPlugins found: ['tiktoken_ext.openai_public']\ntiktoken version: 0.9.0 (are you on latest?)",
     "output_type": "error",
     "traceback": [
      "\u001b[31m---------------------------------------------------------------------------\u001b[39m",
      "\u001b[31mValueError\u001b[39m                                Traceback (most recent call last)",
      "\u001b[36mCell\u001b[39m\u001b[36m \u001b[39m\u001b[32mIn[6]\u001b[39m\u001b[32m, line 1\u001b[39m\n\u001b[32m----> \u001b[39m\u001b[32m1\u001b[39m encoding = \u001b[43mtiktoken\u001b[49m\u001b[43m.\u001b[49m\u001b[43mget_encoding\u001b[49m\u001b[43m(\u001b[49m\u001b[33;43m\"\u001b[39;49m\u001b[33;43mD:/AppData/tiktoken/encodings/o200k_base.tiktoken\u001b[39;49m\u001b[33;43m\"\u001b[39;49m\u001b[43m)\u001b[49m\n\u001b[32m      2\u001b[39m encoding.encode(\u001b[33m\"\u001b[39m\u001b[33m请帮我生成一份关于Deep Research的报告\u001b[39m\u001b[33m\"\u001b[39m)\n",
      "\u001b[36mFile \u001b[39m\u001b[32md:\\Workspace\\Projects\\2025\\gpt-researcher\\.venv\\Lib\\site-packages\\tiktoken\\registry.py:79\u001b[39m, in \u001b[36mget_encoding\u001b[39m\u001b[34m(encoding_name)\u001b[39m\n\u001b[32m     76\u001b[39m     \u001b[38;5;28;01massert\u001b[39;00m ENCODING_CONSTRUCTORS \u001b[38;5;129;01mis\u001b[39;00m \u001b[38;5;129;01mnot\u001b[39;00m \u001b[38;5;28;01mNone\u001b[39;00m\n\u001b[32m     78\u001b[39m \u001b[38;5;28;01mif\u001b[39;00m encoding_name \u001b[38;5;129;01mnot\u001b[39;00m \u001b[38;5;129;01min\u001b[39;00m ENCODING_CONSTRUCTORS:\n\u001b[32m---> \u001b[39m\u001b[32m79\u001b[39m     \u001b[38;5;28;01mraise\u001b[39;00m \u001b[38;5;167;01mValueError\u001b[39;00m(\n\u001b[32m     80\u001b[39m         \u001b[33mf\u001b[39m\u001b[33m\"\u001b[39m\u001b[33mUnknown encoding \u001b[39m\u001b[38;5;132;01m{\u001b[39;00mencoding_name\u001b[38;5;132;01m}\u001b[39;00m\u001b[33m.\u001b[39m\u001b[38;5;130;01m\\n\u001b[39;00m\u001b[33m\"\u001b[39m\n\u001b[32m     81\u001b[39m         \u001b[33mf\u001b[39m\u001b[33m\"\u001b[39m\u001b[33mPlugins found: \u001b[39m\u001b[38;5;132;01m{\u001b[39;00m_available_plugin_modules()\u001b[38;5;132;01m}\u001b[39;00m\u001b[38;5;130;01m\\n\u001b[39;00m\u001b[33m\"\u001b[39m\n\u001b[32m     82\u001b[39m         \u001b[33mf\u001b[39m\u001b[33m\"\u001b[39m\u001b[33mtiktoken version: \u001b[39m\u001b[38;5;132;01m{\u001b[39;00mtiktoken.__version__\u001b[38;5;132;01m}\u001b[39;00m\u001b[33m (are you on latest?)\u001b[39m\u001b[33m\"\u001b[39m\n\u001b[32m     83\u001b[39m     )\n\u001b[32m     85\u001b[39m constructor = ENCODING_CONSTRUCTORS[encoding_name]\n\u001b[32m     86\u001b[39m enc = Encoding(**constructor())\n",
      "\u001b[31mValueError\u001b[39m: Unknown encoding D:/AppData/tiktoken/encodings/o200k_base.tiktoken.\nPlugins found: ['tiktoken_ext.openai_public']\ntiktoken version: 0.9.0 (are you on latest?)"
     ]
    }
   ],
   "source": [
    "encoding = tiktoken.get_encoding(\"D:/AppData/tiktoken/encodings/o200k_base.tiktoken\")\n",
    "encoding.encode(\"请帮我生成一份关于Deep Research的报告\")"
   ]
  },
  {
   "cell_type": "markdown",
   "metadata": {},
   "source": [
    "## 设置本地缓存\n",
    "\n",
    "只能使用这个方案，除非我们不使用tiktoken的encoding，比如我们使用transformers库的AutoTokenizer。\n",
    "\n",
    "如果使用了第三方的sdk，三方sdk使用tiktoken且没有预留可配置的接口，我们就需要使用这个方案了（除非我们修改第三方sdk的代码）"
   ]
  },
  {
   "cell_type": "markdown",
   "metadata": {},
   "source": [
    "根据 tiktoken/load.py 文件 read_file_cached方法，需要先将文件重命名为hash值，根据文件的下载地址进行hash"
   ]
  },
  {
   "cell_type": "code",
   "execution_count": 7,
   "metadata": {},
   "outputs": [],
   "source": [
    "import hashlib\n",
    "\n",
    "download_url = {\n",
    "    'r50k_base': 'https://openaipublic.blob.core.windows.net/encodings/r50k_base.tiktoken',\n",
    "    'p50k_base': 'https://openaipublic.blob.core.windows.net/encodings/p50k_base.tiktoken',\n",
    "    'cl100k_base': 'https://openaipublic.blob.core.windows.net/encodings/cl100k_base.tiktoken',\n",
    "    'o200k_base': 'https://openaipublic.blob.core.windows.net/encodings/o200k_base.tiktoken',\n",
    "}\n",
    "\n",
    "def cache_key(name: str):\n",
    "    return hashlib.sha1(download_url[name].encode()).hexdigest()"
   ]
  },
  {
   "cell_type": "code",
   "execution_count": 8,
   "metadata": {},
   "outputs": [
    {
     "data": {
      "text/plain": [
       "{'r50k_base': ('https://openaipublic.blob.core.windows.net/encodings/r50k_base.tiktoken',\n",
       "  '0ea1e91bbb3a60f729a8dc8f777fd2fc07cd8df4'),\n",
       " 'p50k_base': ('https://openaipublic.blob.core.windows.net/encodings/p50k_base.tiktoken',\n",
       "  'ec7223a39ce59f226a68acc30dc1af2788490e15'),\n",
       " 'cl100k_base': ('https://openaipublic.blob.core.windows.net/encodings/cl100k_base.tiktoken',\n",
       "  '9b5ad71b2ce5302211f9c61530b329a4922fc6a4'),\n",
       " 'o200k_base': ('https://openaipublic.blob.core.windows.net/encodings/o200k_base.tiktoken',\n",
       "  'fb374d419588a4632f3f557e76b4b70aebbca790')}"
      ]
     },
     "execution_count": 8,
     "metadata": {},
     "output_type": "execute_result"
    }
   ],
   "source": [
    "cache_key_dict = {key: (value, cache_key(key)) for key, value in download_url.items()}\n",
    "cache_key_dict"
   ]
  },
  {
   "cell_type": "code",
   "execution_count": 9,
   "metadata": {},
   "outputs": [],
   "source": [
    "import os\n",
    "\n",
    "os.environ['TIKTOKEN_CACHE_DIR'] = 'D:/AppData/tiktoken/encodings/cache'"
   ]
  },
  {
   "cell_type": "code",
   "execution_count": 10,
   "metadata": {},
   "outputs": [
    {
     "data": {
      "text/plain": [
       "{'r50k_base': '[46237, 115, 30585, 106, 22755, 239, 37955, 22755, 238, 31660, 20015, 121, 17739, 111, 12859, 236, 29744, 4992, 21410, 162, 232, 98, 37772, 232]',\n",
       " 'p50k_base': '[46237, 115, 30585, 106, 22755, 239, 37955, 22755, 238, 31660, 20015, 121, 17739, 111, 12859, 236, 29744, 4992, 21410, 162, 232, 98, 37772, 232]',\n",
       " 'cl100k_base': '[15225, 13821, 106, 37046, 45059, 15120, 70542, 30356, 35304, 34564, 8483, 9554, 43378, 58655]',\n",
       " 'o200k_base': '[10394, 58626, 7522, 70033, 2432, 26180, 51566, 46422, 11086, 1616, 65247]'}"
      ]
     },
     "execution_count": 10,
     "metadata": {},
     "output_type": "execute_result"
    }
   ],
   "source": [
    "text = '请帮我生成一份关于Deep Research的报告'\n",
    "{key : str(tiktoken.get_encoding(key).encode(text)) for key in download_url.keys()}"
   ]
  },
  {
   "cell_type": "markdown",
   "metadata": {},
   "source": [
    "# 平替方案：使用transformers"
   ]
  },
  {
   "cell_type": "code",
   "execution_count": 11,
   "metadata": {},
   "outputs": [
    {
     "name": "stderr",
     "output_type": "stream",
     "text": [
      "d:\\Workspace\\Projects\\2025\\gpt-researcher\\.venv\\Lib\\site-packages\\tqdm\\auto.py:21: TqdmWarning: IProgress not found. Please update jupyter and ipywidgets. See https://ipywidgets.readthedocs.io/en/stable/user_install.html\n",
      "  from .autonotebook import tqdm as notebook_tqdm\n"
     ]
    },
    {
     "data": {
      "text/plain": [
       "[101,\n",
       " 6435,\n",
       " 2376,\n",
       " 2769,\n",
       " 4495,\n",
       " 2768,\n",
       " 671,\n",
       " 819,\n",
       " 1068,\n",
       " 754,\n",
       " 12592,\n",
       " 10018,\n",
       " 4638,\n",
       " 2845,\n",
       " 1440,\n",
       " 102]"
      ]
     },
     "execution_count": 11,
     "metadata": {},
     "output_type": "execute_result"
    }
   ],
   "source": [
    "from transformers import AutoTokenizer\n",
    "\n",
    "tokenizer = AutoTokenizer.from_pretrained(\"D:/Models/BAAI/bge-large-zh-v1.5\")\n",
    "tokenizer.encode(text)"
   ]
  },
  {
   "cell_type": "code",
   "execution_count": null,
   "metadata": {},
   "outputs": [],
   "source": []
  }
 ],
 "metadata": {
  "kernelspec": {
   "display_name": "gpt-researcher",
   "language": "python",
   "name": "python3"
  },
  "language_info": {
   "codemirror_mode": {
    "name": "ipython",
    "version": 3
   },
   "file_extension": ".py",
   "mimetype": "text/x-python",
   "name": "python",
   "nbconvert_exporter": "python",
   "pygments_lexer": "ipython3",
   "version": "3.11.12"
  }
 },
 "nbformat": 4,
 "nbformat_minor": 2
}
