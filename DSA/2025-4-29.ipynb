{
 "cells": [
  {
   "cell_type": "markdown",
   "metadata": {},
   "source": [
    "# 在看什么书\n",
    "\n",
    "《数据结构与算法图解》"
   ]
  },
  {
   "cell_type": "markdown",
   "metadata": {},
   "source": [
    "# 概念\n",
    "\n",
    "二分查找\n",
    "\n",
    "冒泡排序"
   ]
  },
  {
   "cell_type": "code",
   "execution_count": null,
   "metadata": {},
   "outputs": [],
   "source": [
    "def bubble_sort(list):\n",
    "    \"\"\"冒泡排序\n",
    "    \"\"\"\n",
    "    unsorted_until_index = len(list) - 1\n",
    "    sorted = False\n",
    "    \n",
    "    while not sorted:\n",
    "        sorted = True\n",
    "        for i in range(unsorted_until_index):\n",
    "            if list[i] > list[i+1]:\n",
    "                sorted = False\n",
    "                list[i], list[i+1] = list[i+1], list[i]\n",
    "        unsorted_until_index = unsorted_until_index - 1"
   ]
  },
  {
   "cell_type": "code",
   "execution_count": 6,
   "metadata": {},
   "outputs": [
    {
     "name": "stdout",
     "output_type": "stream",
     "text": [
      "[10, 15, 25, 35, 45, 55, 65]\n"
     ]
    }
   ],
   "source": [
    "list = [65, 55, 45, 35, 25, 15, 10]\n",
    "bubble_sort(list)\n",
    "print (list)"
   ]
  },
  {
   "cell_type": "code",
   "execution_count": null,
   "metadata": {},
   "outputs": [],
   "source": []
  }
 ],
 "metadata": {
  "kernelspec": {
   "display_name": ".venv",
   "language": "python",
   "name": "python3"
  },
  "language_info": {
   "codemirror_mode": {
    "name": "ipython",
    "version": 3
   },
   "file_extension": ".py",
   "mimetype": "text/x-python",
   "name": "python",
   "nbconvert_exporter": "python",
   "pygments_lexer": "ipython3",
   "version": "3.10.11"
  }
 },
 "nbformat": 4,
 "nbformat_minor": 2
}
