{
 "cells": [
  {
   "cell_type": "markdown",
   "metadata": {},
   "source": [
    "# 在看什么书\n",
    "\n",
    "《数据结构与算法图解》"
   ]
  },
  {
   "cell_type": "markdown",
   "metadata": {},
   "source": [
    "# 概念\n",
    "\n",
    "数据结构不止用于组织数据，数据结构的选择，会影响运行速度\n",
    "\n",
    "数据结构的性能，要结合操作一起分析，常见的操作有：读取、查找、插入、删除\n",
    "\n",
    "操作的速度，不按时间计算，按步数计算\n",
    "\n",
    "时间复杂度\n",
    "\n",
    "**线性查找**"
   ]
  },
  {
   "cell_type": "markdown",
   "metadata": {},
   "source": [
    "# 常见的数据结构\n",
    "\n",
    "数组（最大步数）\n",
    "- 读取：1\n",
    "- 查找：N\n",
    "- 插入：N+1\n",
    "- 删除：N\n",
    "\n",
    "集合\n",
    "\n",
    "有序数组 - 牺牲插入操作的性能，提高查找操作的性能（多读少写）\n",
    "\n",
    "有序数组可以支持 **二分查找**"
   ]
  },
  {
   "cell_type": "markdown",
   "metadata": {},
   "source": [
    "## Python中常见的数据结构\n",
    "\n",
    "- list\n",
    "- tuple\n",
    "- dictionary"
   ]
  },
  {
   "cell_type": "code",
   "execution_count": 6,
   "metadata": {},
   "outputs": [],
   "source": [
    "# my_set = set([1, 2, 3, 4])\n",
    "my_set = {1, 2, 3, 4}\n",
    "\n",
    "empty_set = set() # 空集合只能通过set()创建，不能通过{}创建，因为这是用来创建空字典的"
   ]
  },
  {
   "cell_type": "code",
   "execution_count": 12,
   "metadata": {},
   "outputs": [
    {
     "name": "stdout",
     "output_type": "stream",
     "text": [
      "{1, 2, 3, 4}\n"
     ]
    }
   ],
   "source": [
    "# 唯一性\n",
    "\n",
    "my_set = {1, 2, 2, 3, 4}\n",
    "print(my_set)  # 输出：{1, 2, 3, 4}"
   ]
  },
  {
   "cell_type": "code",
   "execution_count": 13,
   "metadata": {},
   "outputs": [
    {
     "name": "stdout",
     "output_type": "stream",
     "text": [
      "{1, 2, 3, 4, 5}\n"
     ]
    }
   ],
   "source": [
    "my_set.add(5)\n",
    "print(my_set)  # 输出：{1, 2, 3, 4, 5}"
   ]
  },
  {
   "cell_type": "code",
   "execution_count": null,
   "metadata": {},
   "outputs": [
    {
     "name": "stdout",
     "output_type": "stream",
     "text": [
      "{1, 2, 4, 5}\n"
     ]
    }
   ],
   "source": [
    "my_set.remove(3)  # 元素不存在，会抛出 KeyError\n",
    "print(my_set)  # 输出：{1, 2, 4, 5}"
   ]
  },
  {
   "cell_type": "code",
   "execution_count": 18,
   "metadata": {},
   "outputs": [],
   "source": [
    "my_set.discard(3)  # 不会报错，即使元素不存在"
   ]
  },
  {
   "cell_type": "code",
   "execution_count": 19,
   "metadata": {},
   "outputs": [
    {
     "name": "stdout",
     "output_type": "stream",
     "text": [
      "set()\n"
     ]
    }
   ],
   "source": [
    "# 清空集合\n",
    "\n",
    "my_set.clear()\n",
    "print(my_set)  # 输出：set()"
   ]
  },
  {
   "cell_type": "code",
   "execution_count": 20,
   "metadata": {},
   "outputs": [
    {
     "name": "stdout",
     "output_type": "stream",
     "text": [
      "1\n",
      "2\n",
      "3\n",
      "4\n"
     ]
    }
   ],
   "source": [
    "my_set = {1, 2, 3, 4}\n",
    "# 遍历\n",
    "\n",
    "for item in my_set:\n",
    "    print(item)"
   ]
  },
  {
   "cell_type": "code",
   "execution_count": 22,
   "metadata": {},
   "outputs": [
    {
     "name": "stdout",
     "output_type": "stream",
     "text": [
      "{1, 2, 3, 4, 5}\n",
      "{1, 2, 3, 4, 5}\n"
     ]
    }
   ],
   "source": [
    "# 并集\n",
    "\n",
    "set1 = {1, 2, 3}\n",
    "set2 = {3, 4, 5}\n",
    "print(set1.union(set2))  # 输出：{1, 2, 3, 4, 5}\n",
    "print(set1 | set2)       # 输出：{1, 2, 3, 4, 5}"
   ]
  },
  {
   "cell_type": "code",
   "execution_count": 23,
   "metadata": {},
   "outputs": [
    {
     "name": "stdout",
     "output_type": "stream",
     "text": [
      "{3}\n",
      "{3}\n"
     ]
    }
   ],
   "source": [
    "# 交集\n",
    "\n",
    "print(set1.intersection(set2))  # 输出：{3}\n",
    "print(set1 & set2)              # 输出：{3}"
   ]
  },
  {
   "cell_type": "code",
   "execution_count": 25,
   "metadata": {},
   "outputs": [
    {
     "name": "stdout",
     "output_type": "stream",
     "text": [
      "{1, 2}\n",
      "{1, 2}\n"
     ]
    }
   ],
   "source": [
    "# 差集\n",
    "print(set1.difference(set2))  # 输出：{1, 2}\n",
    "print(set1 - set2)            # 输出：{1, 2}"
   ]
  },
  {
   "cell_type": "code",
   "execution_count": 24,
   "metadata": {},
   "outputs": [
    {
     "name": "stdout",
     "output_type": "stream",
     "text": [
      "{1, 2, 4, 5}\n",
      "{1, 2, 4, 5}\n"
     ]
    }
   ],
   "source": [
    "# 对称差集\n",
    "\n",
    "print(set1.symmetric_difference(set2))  # 输出：{1, 2, 4, 5}\n",
    "print(set1 ^ set2)                       # 输出：{1, 2, 4, 5}"
   ]
  },
  {
   "cell_type": "code",
   "execution_count": 26,
   "metadata": {},
   "outputs": [
    {
     "name": "stdout",
     "output_type": "stream",
     "text": [
      "True\n",
      "True\n"
     ]
    }
   ],
   "source": [
    "# 判断子集和超集\n",
    "set3 = {1, 2}\n",
    "print(set3.issubset(set1))  # 输出：True\n",
    "print(set1.issuperset(set3))  # 输出：True"
   ]
  },
  {
   "cell_type": "code",
   "execution_count": 27,
   "metadata": {},
   "outputs": [
    {
     "name": "stdout",
     "output_type": "stream",
     "text": [
      "3 is in the set\n"
     ]
    }
   ],
   "source": [
    "# 成员测试关系\n",
    "if 3 in my_set:\n",
    "    print(\"3 is in the set\")"
   ]
  },
  {
   "cell_type": "code",
   "execution_count": null,
   "metadata": {},
   "outputs": [],
   "source": []
  }
 ],
 "metadata": {
  "kernelspec": {
   "display_name": ".venv",
   "language": "python",
   "name": "python3"
  },
  "language_info": {
   "codemirror_mode": {
    "name": "ipython",
    "version": 3
   },
   "file_extension": ".py",
   "mimetype": "text/x-python",
   "name": "python",
   "nbconvert_exporter": "python",
   "pygments_lexer": "ipython3",
   "version": "3.10.11"
  }
 },
 "nbformat": 4,
 "nbformat_minor": 2
}
