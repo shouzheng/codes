{
 "cells": [
  {
   "cell_type": "markdown",
   "metadata": {},
   "source": [
    "## leetcode\n",
    "\n",
    "https://leetcode.cn/problems/longest-unequal-adjacent-groups-subsequence-ii/description/?envType=daily-question&envId=2025-05-16"
   ]
  },
  {
   "cell_type": "code",
   "execution_count": 35,
   "metadata": {},
   "outputs": [],
   "source": [
    "class Solution(object):\n",
    "    def getWordsInLongestSubsequence(self, words, groups):\n",
    "        \"\"\"\n",
    "        :type words: List[str]\n",
    "        :type groups: List[int]\n",
    "        :rtype: List[str]\n",
    "        \"\"\"\n",
    "\n",
    "        group_dict = {}\n",
    "        len_dict = {}\n",
    "        for i in range(len(words)):\n",
    "            if len(words[i]) in len_dict:\n",
    "                add_flag = False\n",
    "                for gi in len_dict[len(words[i])]:\n",
    "                    if self.hanming_distince(words[i], words[group_dict[gi][-1]]) == 1 and groups[i] != groups[group_dict[gi][-1]]:\n",
    "                        group_dict[gi].append(i)\n",
    "                        add_flag = True\n",
    "                        break\n",
    "                if not add_flag:\n",
    "                    len_dict[len(words[i])].append(i)\n",
    "                    group_dict[i] = [i]\n",
    "            else:\n",
    "                len_dict[len(words[i])] = [i]\n",
    "                group_dict[i] = [i]\n",
    "        \n",
    "        ret_index = []\n",
    "        for value in group_dict.values():\n",
    "            if len(value) > len(ret_index):\n",
    "                ret_index = value\n",
    "        ret = [words[i] for i in ret_index]\n",
    "        return ret\n",
    "        \n",
    "\n",
    "    def hanming_distince(self, str1, str2):\n",
    "        if len(str1) != len(str2):\n",
    "            return -1\n",
    "        ret = 0\n",
    "        for i in range(len(str1)):\n",
    "            if str1[i] != str2[i]:\n",
    "                ret += 1\n",
    "            if ret > 1:\n",
    "                break\n",
    "        return ret"
   ]
  },
  {
   "cell_type": "code",
   "execution_count": 36,
   "metadata": {},
   "outputs": [],
   "source": [
    "solution = Solution()"
   ]
  },
  {
   "cell_type": "code",
   "execution_count": 37,
   "metadata": {},
   "outputs": [
    {
     "data": {
      "text/plain": [
       "['bab', 'dab']"
      ]
     },
     "execution_count": 37,
     "metadata": {},
     "output_type": "execute_result"
    }
   ],
   "source": [
    "solution.getWordsInLongestSubsequence(words = [\"bab\",\"dab\",\"cab\"], groups = [1,2,2])"
   ]
  },
  {
   "cell_type": "code",
   "execution_count": 38,
   "metadata": {},
   "outputs": [
    {
     "data": {
      "text/plain": [
       "['a', 'b', 'c', 'd']"
      ]
     },
     "execution_count": 38,
     "metadata": {},
     "output_type": "execute_result"
    }
   ],
   "source": [
    "solution.getWordsInLongestSubsequence(words = [\"a\",\"b\",\"c\",\"d\"], groups = [1,2,3,4])"
   ]
  },
  {
   "cell_type": "code",
   "execution_count": null,
   "metadata": {},
   "outputs": [
    {
     "data": {
      "text/plain": [
       "['bad', 'cad']"
      ]
     },
     "execution_count": 40,
     "metadata": {},
     "output_type": "execute_result"
    }
   ],
   "source": [
    "solution.getWordsInLongestSubsequence(words = [\"bad\",\"dc\",\"bc\",\"ccd\",\"dd\",\"da\",\"cad\",\"dba\",\"aba\"], groups = [9,7,1,2,6,8,3,7,2])\n",
    "# 预期结果：[\"dc\",\"dd\",\"da\"]\n",
    "# 数据结构不能选择简单的列表，要支持分叉"
   ]
  },
  {
   "cell_type": "code",
   "execution_count": null,
   "metadata": {},
   "outputs": [],
   "source": []
  }
 ],
 "metadata": {
  "kernelspec": {
   "display_name": ".venv",
   "language": "python",
   "name": "python3"
  },
  "language_info": {
   "codemirror_mode": {
    "name": "ipython",
    "version": 3
   },
   "file_extension": ".py",
   "mimetype": "text/x-python",
   "name": "python",
   "nbconvert_exporter": "python",
   "pygments_lexer": "ipython3",
   "version": "3.10.11"
  }
 },
 "nbformat": 4,
 "nbformat_minor": 2
}
