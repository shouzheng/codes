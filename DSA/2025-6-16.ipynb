{
 "cells": [
  {
   "cell_type": "markdown",
   "metadata": {},
   "source": [
    "## 2016. 增量元素之间的最大差值\n",
    "\n",
    "https://leetcode.cn/problems/maximum-difference-between-increasing-elements/submissions/637117198/?envType=daily-question&envId=2025-06-16"
   ]
  },
  {
   "cell_type": "code",
   "execution_count": 9,
   "metadata": {},
   "outputs": [],
   "source": [
    "from typing import List\n",
    "class Solution:\n",
    "    def maximumDifference(self, nums: List[int]) -> int:\n",
    "        ret = -1\n",
    "        start = nums[0]\n",
    "        for v in nums[1:]:\n",
    "            if v > start:\n",
    "                ret = max(ret, v - start)\n",
    "            \n",
    "            if v < start:\n",
    "                start = v\n",
    "        return ret"
   ]
  },
  {
   "cell_type": "code",
   "execution_count": 10,
   "metadata": {},
   "outputs": [],
   "source": [
    "solution = Solution()"
   ]
  },
  {
   "cell_type": "code",
   "execution_count": 11,
   "metadata": {},
   "outputs": [],
   "source": [
    "assert solution.maximumDifference([7,1,5,4]) == 4\n",
    "assert solution.maximumDifference([9,4,3,2]) == -1\n",
    "assert solution.maximumDifference([1,5,2,10]) == 9\n",
    "assert solution.maximumDifference([2,5,1,3]) == 3"
   ]
  },
  {
   "cell_type": "markdown",
   "metadata": {},
   "source": [
    "## 121. 买卖股票的最佳时机\n",
    "\n",
    "https://leetcode.cn/problems/best-time-to-buy-and-sell-stock/"
   ]
  },
  {
   "cell_type": "code",
   "execution_count": 13,
   "metadata": {},
   "outputs": [],
   "source": [
    "from typing import List\n",
    "class Solution:\n",
    "    def maxProfit(self, prices: List[int]) -> int:\n",
    "        ret = 0\n",
    "        start = prices[0]\n",
    "        for v in prices[1:]:\n",
    "            if v > start:\n",
    "                ret = max(ret, v - start)\n",
    "            \n",
    "            if v < start:\n",
    "                start = v\n",
    "        return ret"
   ]
  },
  {
   "cell_type": "code",
   "execution_count": 14,
   "metadata": {},
   "outputs": [],
   "source": [
    "solution = Solution()"
   ]
  },
  {
   "cell_type": "code",
   "execution_count": 15,
   "metadata": {},
   "outputs": [],
   "source": [
    "assert solution.maxProfit([7,1,5,3,6,4]) == 5\n",
    "assert solution.maxProfit([7,6,4,3,1]) == 0"
   ]
  },
  {
   "cell_type": "markdown",
   "metadata": {},
   "source": [
    "## 122. 买卖股票的最佳时机 II\n",
    "\n",
    "https://leetcode.cn/problems/best-time-to-buy-and-sell-stock-ii/description/"
   ]
  },
  {
   "cell_type": "code",
   "execution_count": 24,
   "metadata": {},
   "outputs": [],
   "source": [
    "class Solution:\n",
    "    def maxProfit(self, prices: List[int]) -> int:\n",
    "        ret = temp = 0\n",
    "        start = last = prices[0]\n",
    "        for v in prices[1:]:\n",
    "            if v > last:\n",
    "                temp = max(temp, v - start)\n",
    "            \n",
    "            if v < last:\n",
    "                start = v\n",
    "                ret += temp\n",
    "                temp = 0\n",
    "            \n",
    "            last = v\n",
    "        \n",
    "        ret += temp\n",
    "\n",
    "        return ret"
   ]
  },
  {
   "cell_type": "code",
   "execution_count": 25,
   "metadata": {},
   "outputs": [],
   "source": [
    "solution = Solution()\n",
    "\n",
    "assert solution.maxProfit([7,1,5,3,6,4]) == 7\n",
    "assert solution.maxProfit([1,2,3,4,5]) == 4\n",
    "assert solution.maxProfit([7,6,4,3,1]) == 0"
   ]
  },
  {
   "cell_type": "code",
   "execution_count": null,
   "metadata": {},
   "outputs": [],
   "source": []
  }
 ],
 "metadata": {
  "kernelspec": {
   "display_name": ".venv",
   "language": "python",
   "name": "python3"
  },
  "language_info": {
   "codemirror_mode": {
    "name": "ipython",
    "version": 3
   },
   "file_extension": ".py",
   "mimetype": "text/x-python",
   "name": "python",
   "nbconvert_exporter": "python",
   "pygments_lexer": "ipython3",
   "version": "3.10.11"
  }
 },
 "nbformat": 4,
 "nbformat_minor": 2
}
